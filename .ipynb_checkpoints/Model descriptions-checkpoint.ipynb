{
 "cells": [
  {
   "cell_type": "markdown",
   "id": "7180875b",
   "metadata": {},
   "source": [
    "# Model descriptions\n",
    "## Introduction\n",
    "\n",
    "This file describes the overall calculation steps of the BECCS retrofit models. The main article briefly outlines these steps, which involve: (1) estimating the nominal energy balance from the database parameters, (2) calculating flue gases, (3) sizing an Aspen Plus model of amine capture, compression and liquefaction, (4) determining the new energy balance after integrating the capture process and (5) estimating capital and operational expenditures. These steps are illustrated below for the case of combined heat and power (CHP) plants, but will also be described in greater detail for both CHP and pulp plants in the following sections.\n",
    "\n",
    "\n",
    "![Alt Text](chp.drawio.png)\n",
    "\n",
    "\n",
    "Th"
   ]
  },
  {
   "cell_type": "markdown",
   "id": "43337a9b",
   "metadata": {},
   "source": []
  },
  {
   "cell_type": "code",
   "execution_count": null,
   "id": "7de7fc6d",
   "metadata": {},
   "outputs": [],
   "source": []
  }
 ],
 "metadata": {
  "kernelspec": {
   "display_name": "Python 3 (ipykernel)",
   "language": "python",
   "name": "python3"
  },
  "language_info": {
   "codemirror_mode": {
    "name": "ipython",
    "version": 3
   },
   "file_extension": ".py",
   "mimetype": "text/x-python",
   "name": "python",
   "nbconvert_exporter": "python",
   "pygments_lexer": "ipython3",
   "version": "3.11.5"
  }
 },
 "nbformat": 4,
 "nbformat_minor": 5
}
