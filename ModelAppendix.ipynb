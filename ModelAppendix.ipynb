{
 "cells": [
  {
   "cell_type": "markdown",
   "id": "a118cb40-f67e-40b5-ae60-7db94663fd13",
   "metadata": {},
   "source": [
    "# Appendix B: Descriptions of the CCS retrofit models\n",
    "\n",
    "## 1. Introduction\n",
    "This file describes the CCS retrofit models. In the main article, the overall modelling steps are described as: (1) estimating the nominal energy balance from the database parameters, (2) calculating flue gases, (3) sizing an Aspen Plus model of amine capture, compression and liquefaction, (4) determining the new energy balance after integrating the capture process and (5) estimating capital and operational expenditures. Below, the article figure is re-printed to provide an overview of these steps.\n",
    "\n",
    "<div style=\"text-align: center;\">\n",
    "  <img src=\"chp.drawio.png\" alt=\"Sample Image\">  \n",
    "</div>  \n",
    "<div style=\"text-align: center;\">\n",
    "  <em>Figure 1: Model outline for retrofitting a CHP plant with CCS.</em>\n",
    "</div>    \n",
    "  \n",
    "Notably, many theoretical and modelling details have been described by e.g. Kumar et al. (2023), Biermann et al. (2019) and Onarheim et al. (2017). However, this file mainly elaborates on model structure and key assumptions specific to this study. _Not all modelling steps and assumptions are described here, as the models contain many calculation steps. But the main features are presented_.\n",
    "\n",
    "The models and data are collected in the GitHub repository BECCS-Sweden. While many other files also populate the repo, it's overall structure is illustrated below. The controller.py and model.py are the most important files. In each controller, you specify what plant data should be read and what uncertainties, levers and outcomes should be explored. The controller then calls the model in the corresponding model.py file repeatedly for a specified number of scenarios. Each model file consists of a set of functions corresponding to the modelling steps (1) to (5) previously outlined. These steps are detailed in the following sections."
   ]
  },
  {
   "cell_type": "code",
   "execution_count": null,
   "id": "8f9e5eee-40c2-42ee-8769-ffc3f506e128",
   "metadata": {},
   "outputs": [],
   "source": [
    "BECCS-Sweden repository structure\n",
    "│ scenario_discovery.py\n",
    "│ parsed_scenarios.xlsx\n",
    "│\n",
    "├───CHP experiments\n",
    "│ │ all_experiments.csv\n",
    "│ │ CHP data all.csv\n",
    "│ │ chp_controller.py\n",
    "│ │ chp_model.py\n",
    "│\n",
    "├───PULP experiments\n",
    "│ │ all_experiments.csv\n",
    "│ │ Pulp data.csv\n",
    "│ │ pulp_controller.py\n",
    "│ │ pulp_model.py\n",
    "│\n",
    "├───WASTE experiments\n",
    "│ │ all_experiments.csv\n",
    "│ │ WASTE data all.csv\n",
    "│ │ waste_controller.py\n",
    "│ │ waste_model.py\n",
    "│\n",
    "├───FIGURES"
   ]
  },
  {
   "cell_type": "markdown",
   "id": "f9f8988b-fc03-4289-9157-fdf5eabffc3d",
   "metadata": {},
   "source": [
    "## 2. The woodchip- and waste-fired CHP models\n",
    "### Determining an initial energy balance and preparing Aspen data\n",
    "The CCS retrofit models for woodchip- and waste-fired plants are very similar so only the woodchip-fired model will be used for demonstration purposes. Firstly, a __CHP__ plant object is constructed based on the plant of interest. This plant could e.g. be \"Värtaverket KVV8\" from the CHP plant data csv file. The nominal energy balance of this plant is then estimated based on the fuel, power and steam data. The __estimate_nominal_cycle()__ function essentially guesses various condensation pressures. The function stops when the power and heat generated matches the values of the CHP plant data. At this point, the steam states of the CHP have been estimated. "
   ]
  },
  {
   "cell_type": "code",
   "execution_count": null,
   "id": "a5b8e5c0-d02f-47ad-b940-7409084ede01",
   "metadata": {},
   "outputs": [],
   "source": [
    "CHP = CHP_plant(\n",
    "    name=plant_data[\"Plant Name\"],\n",
    "    fuel=plant_data[\"Fuel (W=waste, B=biomass)\"],\n",
    "    Qdh=plant_data[\"Heat output (MWheat)\"],\n",
    "    P=plant_data[\"Electric output (MWe)\"],\n",
    "    Qfgc=plant_data[\"Existing FGC heat output (MWheat)\"],\n",
    "    ybirth=plant_data[\"Year of commissioning\"],\n",
    "    Tsteam=plant_data[\"Live steam temperature (degC)\"],\n",
    "    psteam=plant_data[\"Live steam pressure (bar)\"],\n",
    ")\n",
    "\n",
    "CHP.estimate_nominal_cycle()"
   ]
  },
  {
   "cell_type": "markdown",
   "id": "b4efb306-54ad-4110-87b1-134ae50641e2",
   "metadata": {},
   "source": [
    "To estimate how an amine retrofit would impact the energy balance of the plant, we adapted the Aspen Plus V12.1 model detailed in Kumar et al. (2023) to various flue gas volumes and capture rates. The model includes compression and liquefaction as specified by Deng et al. (2019). A screenshot of the model is shown below, although not all components are necessarily shown or active.\n",
    "\n",
    "<div style=\"text-align: center;\">\n",
    "  <img src=\"AspenCapture.PNG\" alt=\"Sample Image\">  \n",
    "</div>    \n",
    "<div style=\"text-align: center;\">\n",
    "  <em>Figure 2: Screenshot of the amine Aspen model used.</em>\n",
    "</div>      "
   ]
  },
  {
   "cell_type": "markdown",
   "id": "6ae5db10-6bcb-4f4e-9745-d52c168074f9",
   "metadata": {},
   "source": [
    "The (wet) flue gas composition for woodchip- and waste-fired CHP plants were taken from Kumar et al. (2023) and Hammar (2022), respecitvely. The model was adapted to various flue gas flows between 3 and 170 kg/s and capture rates between 78 and 94 %. The results were saved to e.g. the AspenWoodchip.csv file, which is illustrated below. The key idea is that this data can be used to quickly estimate various outputs from the Aspen model by interpolating based on flue gas flow and capture rate. This lets us estimate model outputs for thousands of scenarios, without having to adjust the Aspen model manually for each scenario.\n",
    "\n",
    "| Wet flue gas composition (woodchip) |   |   |\n",
    "|--------------------------|---|---|\n",
    "| CO2                      | vol.% | 16.0 |\n",
    "| O2                       | vol.% | 3.2  |\n",
    "| H2O                      | vol.% | 5.3  |\n",
    "| N2 and inert gases        | vol.% | 75.5 |  \n",
    "\n",
    "| Wet flue gas composition (waste) |   |   |\n",
    "|--------------------------|---|---|\n",
    "| CO2                      | vol.% | 11.0 |\n",
    "| O2                       | vol.% | 7  |\n",
    "| H2O                      | vol.% | 5  |\n",
    "| N2 and inert gases        | vol.% | 77 |"
   ]
  },
  {
   "cell_type": "code",
   "execution_count": 30,
   "id": "0b96d8cf-ce57-457b-8f37-c94c9d72a7d4",
   "metadata": {},
   "outputs": [
    {
     "data": {
      "text/html": [
       "<div>\n",
       "<style scoped>\n",
       "    .dataframe tbody tr th:only-of-type {\n",
       "        vertical-align: middle;\n",
       "    }\n",
       "\n",
       "    .dataframe tbody tr th {\n",
       "        vertical-align: top;\n",
       "    }\n",
       "\n",
       "    .dataframe thead th {\n",
       "        text-align: right;\n",
       "    }\n",
       "</style>\n",
       "<table border=\"1\" class=\"dataframe\">\n",
       "  <thead>\n",
       "    <tr style=\"text-align: right;\">\n",
       "      <th></th>\n",
       "      <th>CO2</th>\n",
       "      <th>Flow</th>\n",
       "      <th>Rcapture</th>\n",
       "      <th>RCO2</th>\n",
       "      <th>Qreb</th>\n",
       "      <th>Treb</th>\n",
       "      <th>Wpumps</th>\n",
       "      <th>Wcfg</th>\n",
       "      <th>Wc1</th>\n",
       "      <th>Wc2</th>\n",
       "      <th>...</th>\n",
       "      <th>COP</th>\n",
       "      <th>Qrcond</th>\n",
       "      <th>Tinrcond</th>\n",
       "      <th>Toutrcond</th>\n",
       "      <th>Qrint</th>\n",
       "      <th>Tinrint</th>\n",
       "      <th>Toutrint</th>\n",
       "      <th>Qpreliq</th>\n",
       "      <th>Tinpreliq</th>\n",
       "      <th>Toutpreliq</th>\n",
       "    </tr>\n",
       "  </thead>\n",
       "  <tbody>\n",
       "    <tr>\n",
       "      <th>3</th>\n",
       "      <td>16</td>\n",
       "      <td>170</td>\n",
       "      <td>82</td>\n",
       "      <td>0.820246</td>\n",
       "      <td>110585.762</td>\n",
       "      <td>121.148653</td>\n",
       "      <td>129.565427</td>\n",
       "      <td>3631.66210</td>\n",
       "      <td>2295.00515</td>\n",
       "      <td>2138.99307</td>\n",
       "      <td>...</td>\n",
       "      <td>2.566057</td>\n",
       "      <td>-13499.8775</td>\n",
       "      <td>376.969348</td>\n",
       "      <td>303.684636</td>\n",
       "      <td>-1440.28195</td>\n",
       "      <td>354.959496</td>\n",
       "      <td>293.15</td>\n",
       "      <td>-2477.30340</td>\n",
       "      <td>358.816728</td>\n",
       "      <td>293.15</td>\n",
       "    </tr>\n",
       "    <tr>\n",
       "      <th>4</th>\n",
       "      <td>16</td>\n",
       "      <td>170</td>\n",
       "      <td>78</td>\n",
       "      <td>0.780732</td>\n",
       "      <td>104472.462</td>\n",
       "      <td>121.162140</td>\n",
       "      <td>125.601333</td>\n",
       "      <td>3631.66210</td>\n",
       "      <td>2184.41889</td>\n",
       "      <td>2035.92417</td>\n",
       "      <td>...</td>\n",
       "      <td>2.566057</td>\n",
       "      <td>-12849.2810</td>\n",
       "      <td>376.969348</td>\n",
       "      <td>303.684636</td>\n",
       "      <td>-1370.87077</td>\n",
       "      <td>354.959496</td>\n",
       "      <td>293.15</td>\n",
       "      <td>-2358.17130</td>\n",
       "      <td>358.822314</td>\n",
       "      <td>293.15</td>\n",
       "    </tr>\n",
       "    <tr>\n",
       "      <th>5</th>\n",
       "      <td>16</td>\n",
       "      <td>140</td>\n",
       "      <td>94</td>\n",
       "      <td>0.941247</td>\n",
       "      <td>112530.899</td>\n",
       "      <td>121.058270</td>\n",
       "      <td>122.285697</td>\n",
       "      <td>2990.78056</td>\n",
       "      <td>2168.71060</td>\n",
       "      <td>2021.28605</td>\n",
       "      <td>...</td>\n",
       "      <td>2.566057</td>\n",
       "      <td>-12758.1658</td>\n",
       "      <td>376.969348</td>\n",
       "      <td>303.684636</td>\n",
       "      <td>-1361.14983</td>\n",
       "      <td>354.959496</td>\n",
       "      <td>293.15</td>\n",
       "      <td>-2339.83874</td>\n",
       "      <td>358.799147</td>\n",
       "      <td>293.15</td>\n",
       "    </tr>\n",
       "    <tr>\n",
       "      <th>6</th>\n",
       "      <td>16</td>\n",
       "      <td>140</td>\n",
       "      <td>90</td>\n",
       "      <td>0.898620</td>\n",
       "      <td>102863.646</td>\n",
       "      <td>121.108749</td>\n",
       "      <td>114.808663</td>\n",
       "      <td>2990.78056</td>\n",
       "      <td>2070.60917</td>\n",
       "      <td>1929.85210</td>\n",
       "      <td>...</td>\n",
       "      <td>2.566057</td>\n",
       "      <td>-12180.3988</td>\n",
       "      <td>376.969348</td>\n",
       "      <td>303.684636</td>\n",
       "      <td>-1299.50872</td>\n",
       "      <td>354.959496</td>\n",
       "      <td>293.15</td>\n",
       "      <td>-2233.85234</td>\n",
       "      <td>358.785597</td>\n",
       "      <td>293.15</td>\n",
       "    </tr>\n",
       "  </tbody>\n",
       "</table>\n",
       "<p>4 rows × 58 columns</p>\n",
       "</div>"
      ],
      "text/plain": [
       "   CO2  Flow  Rcapture      RCO2        Qreb        Treb      Wpumps  \\\n",
       "3   16   170        82  0.820246  110585.762  121.148653  129.565427   \n",
       "4   16   170        78  0.780732  104472.462  121.162140  125.601333   \n",
       "5   16   140        94  0.941247  112530.899  121.058270  122.285697   \n",
       "6   16   140        90  0.898620  102863.646  121.108749  114.808663   \n",
       "\n",
       "         Wcfg         Wc1         Wc2  ...       COP      Qrcond    Tinrcond  \\\n",
       "3  3631.66210  2295.00515  2138.99307  ...  2.566057 -13499.8775  376.969348   \n",
       "4  3631.66210  2184.41889  2035.92417  ...  2.566057 -12849.2810  376.969348   \n",
       "5  2990.78056  2168.71060  2021.28605  ...  2.566057 -12758.1658  376.969348   \n",
       "6  2990.78056  2070.60917  1929.85210  ...  2.566057 -12180.3988  376.969348   \n",
       "\n",
       "    Toutrcond       Qrint     Tinrint  Toutrint     Qpreliq   Tinpreliq  \\\n",
       "3  303.684636 -1440.28195  354.959496    293.15 -2477.30340  358.816728   \n",
       "4  303.684636 -1370.87077  354.959496    293.15 -2358.17130  358.822314   \n",
       "5  303.684636 -1361.14983  354.959496    293.15 -2339.83874  358.799147   \n",
       "6  303.684636 -1299.50872  354.959496    293.15 -2233.85234  358.785597   \n",
       "\n",
       "   Toutpreliq  \n",
       "3      293.15  \n",
       "4      293.15  \n",
       "5      293.15  \n",
       "6      293.15  \n",
       "\n",
       "[4 rows x 58 columns]"
      ]
     },
     "execution_count": 30,
     "metadata": {},
     "output_type": "execute_result"
    }
   ],
   "source": [
    "import pandas as pd\n",
    "aspen_df = pd.read_csv(\"AspenWoodchip.csv\", sep=';', decimal='.')\n",
    "aspen_df = aspen_df.iloc[3:7] # Only showcases 4 rows of Aspen results, but 35 are available.\n",
    "aspen_df.head()"
   ]
  },
  {
   "cell_type": "markdown",
   "id": "f0c593d4-adb6-4c49-b666-7461d6c42c14",
   "metadata": {},
   "source": [
    "Given the Aspen outputs, including e.g. reboiler duty, pump and compressor work, temperature levels and cooling demands etc., we construct a set of interpolators - one for each output. The Aspen outputs can thus later be estimated by just passing a flue gas volume and a capture rate to the interpolators."
   ]
  },
  {
   "cell_type": "code",
   "execution_count": null,
   "id": "34516397-acc5-4b2b-a8e4-6e52ca9a58d1",
   "metadata": {},
   "outputs": [],
   "source": [
    "aspen_interpolators = create_interpolators(aspen_df)"
   ]
  },
  {
   "cell_type": "markdown",
   "id": "96a78c89-2d44-47d1-ab3d-7e42800fa532",
   "metadata": {},
   "source": [
    "### The CCS retrofit model\n",
    "At this point, the nominal energy balance of the CHP is determined and interpolators of the Aspen outputs are prepared. The CHP object and Aspen interpolators can then be passed as an input to the main model __CCS_CHP()__.  \n",
    "\n",
    "Scenario-specific input parameters, i.e. uncertainties and levers, are specified in the beginning of the model. These correspond to Table 2 in the main article. While many scenarios are sampled, one scenario could look something like this:\n",
    "<div style=\"page-break-before: always;\"></div>"
   ]
  },
  {
   "cell_type": "code",
   "execution_count": null,
   "id": "cd4f79b1-575e-441a-8c1f-a2efee94aed1",
   "metadata": {},
   "outputs": [],
   "source": [
    "def CCS_CHP( \n",
    "    dTreb=10,\n",
    "    Tsupp=86,\n",
    "    Tlow=38,\n",
    "    dTmin=7,\n",
    "    COP = 3,\n",
    "    U = 1500,\n",
    "\n",
    "    alpha=6.12,\n",
    "    beta=0.6336,\n",
    "    CEPCI=880,\n",
    "    fixed=0.06,\n",
    "    ownercost=0.2,\n",
    "    WACC=0.05,\n",
    "    yexpenses=3,\n",
    "    rescalation=0.03,\n",
    "    i=0.075,\n",
    "    t=25,\n",
    "    celc=40,\n",
    "    cheat=0.80,\n",
    "    cbio=30,\n",
    "    cMEA=2,\n",
    "    cHP=0.86,                       \n",
    "    cHEX=0.571,                     \n",
    "    \n",
    "    time=5000,\n",
    "\n",
    "    duration_increase=\"1000\",\n",
    "    rate=0.90,\n",
    "    heat_pump=True,\n",
    "\n",
    "    chp_interpolators=aspen_interpolators,\n",
    "    CHP=CHP\n",
    "):"
   ]
  },
  {
   "cell_type": "markdown",
   "id": "4b87d0b6-866e-4883-9f36-75af80e50e33",
   "metadata": {},
   "source": [
    "The model now calls various functions to determine the final energy penalties and costs of the CCS retrofit. Firstly, the amount of flue gases, feedstock use and CO2 generated are calculated using the __burn_fuel()__ function. The necessary data is taken from Kumar et al. (2023) and Hammar (2022), e.g. to calculate the molar mass of the flue gases. The volume of the flue gases is assumed to be 22.4 Nm3/kmol flue gas, i.e. an ideal gas assumption. This is also where any additional biomass feedstock is quantified, as a result of potential increases in annual plant utilization."
   ]
  },
  {
   "cell_type": "code",
   "execution_count": null,
   "id": "ae07f33d-65e5-40d6-983a-1a3326045a22",
   "metadata": {},
   "outputs": [],
   "source": [
    "CHP.burn_fuel()"
   ]
  },
  {
   "cell_type": "markdown",
   "id": "279c1124-b376-4e89-a1b5-921eee147dc5",
   "metadata": {},
   "source": [
    "Then, the (scenario specific) flue gas volume and capture rate are used as inputs to the __size_MEA()__ function. This function utilizes the aforementioned Aspen interpolators to estimate how the amine capture plant, including compression and liquefaction stages, could be designed. Some key outputs are the reboiler duty and the total compressor and pump work."
   ]
  },
  {
   "cell_type": "code",
   "execution_count": null,
   "id": "56d3a057-6a86-41e5-b797-f62e8f4a908b",
   "metadata": {},
   "outputs": [],
   "source": [
    "CHP.size_MEA(rate, chp_interpolators)"
   ]
  },
  {
   "cell_type": "markdown",
   "id": "246360b0-8e2f-4507-bb00-6aaf5b109089",
   "metadata": {},
   "source": [
    "Given the required reboiler duty and compressor and pump work, the amine capture plant can be powered. This is simulated using the __power_MEA()__ function by calculating how much condensing steam would be required at a temperature (pressure) level slightly above the reboiler temperature. This temperature difference, dTreb, varies by scenario and the reboiler temperature is specified from the Aspen data. The required steam massflow is calculated and drawn at the calculated pressure level. This reduces the steam available for power and heat generation. The net power output is further reduced by subtracting the required compressor and pump work of the capture plant from the CHP turbine output."
   ]
  },
  {
   "cell_type": "code",
   "execution_count": null,
   "id": "0d05d160-6727-4eaa-a161-dbfd8113a31d",
   "metadata": {},
   "outputs": [],
   "source": [
    "CHP.power_MEA()"
   ]
  },
  {
   "cell_type": "markdown",
   "id": "3984706a-3dbf-4257-b434-a8e1982e8c3c",
   "metadata": {},
   "source": [
    "As all CHP plants were assumed to recover waste heat from the capture process through heat exchange with a district heating network, we developed functions which estimate the heat available for heat recovery. This process is largely guided by energy targeting and pinch analysis principles as detailed by Kemp (2007). \n",
    "\n",
    "The __select_streams()__ function is used to organize the Aspen output data. It ensures that various streams of the capture plant are named and their respective heating/cooling demand and in- and out- temperatures are specified. \n",
    "\n",
    "The __merge_heat()__ function merges the separate streams into an idealized composite curve. In this study, we regard the composite curve as representative of all the individual streams if perfect heat exchange would be possible between all streams. \n",
    "\n",
    "Finally, the __recover_heat()__ function estimates how much heat from the composite curve that is recoverable, i.e. that could be used to heat district heating water. This function shifts the composite curve based on the (scenario specific) dTmin temperature. It then identifies how much heat of this composite curve that is at a temperature higher than the district heating water temperature - and the district heating in- and out- temperature is also scenario dependent. We assumed that no heat above 47 C could be directly exchanged for district heating purposes. However, any heat below 47 C that is available from the capture plant could be heat pumped to an appropriate district heating temperature. This use of heat pumps and their COP efficiency is scenario dependent. After having recovered heat, the energy balance of the CHP is adapted, mainly by increasing the heat output (and possibly reducing power output to cover heat pump electricity demand)."
   ]
  },
  {
   "cell_type": "code",
   "execution_count": null,
   "id": "021c3c3e-d6c9-417d-bcd2-f0ecb6a5d64e",
   "metadata": {},
   "outputs": [],
   "source": [
    "stream_data = CHP.select_streams()\n",
    "composite_curve = CHP.merge_heat(stream_data)\n",
    "CHP.recover_heat(composite_curve)"
   ]
  },
  {
   "cell_type": "markdown",
   "id": "333d321e-8c59-4023-a0a2-76f32ea7807f",
   "metadata": {},
   "source": [
    "Now, the CAPEX and OPEX of the CCS retrofit can be calculated. We are mainly guided by Hassan et al. (2019) and the NETL methodology described by Theis (2021), and we re-print their illustration below. The logic is to estimate a baseline CAPEX cost, and then apply various escalation factors to this cost. This is done within the __CAPEX_MEA()__ function.\n",
    "\n",
    "<div style=\"text-align: center;\">\n",
    "  <img src=\"NETL.jpg\" alt=\"Sample Image\" style=\"width: 60%;\">  \n",
    "</div>  \n",
    "<div style=\"text-align: center;\">\n",
    "  <em>Figure 3: The NETL cost estimation methodology is based on escalation factors applied to a base cost estimate.</em>\n",
    "</div>"
   ]
  },
  {
   "cell_type": "markdown",
   "id": "bcbf00df-37e6-40c0-b770-0dcbb517df38",
   "metadata": {},
   "source": [
    "We use the CAPEX estimate in Figure 6 by Eliasson et al. (2022), who also base their estimate on Hassan et al. (2019). This estimate represents the TPC, i.e. costs including process and project contingencies. The estimate uses the cost year of 2016. Therefore, a Chemical Engineering Plant Cost Index (CEPCI) was used to adjust the estimate to 2026, which was assumed to be the cost year for our study."
   ]
  },
  {
   "cell_type": "code",
   "execution_count": null,
   "id": "e351076e-08c8-4709-8dba-de829ee20e4c",
   "metadata": {},
   "outputs": [],
   "source": [
    "CAPEX = alpha * Vfluegases ^ beta # Where alpha and beta are scenario dependent, \n",
    "# but in Eliasson et al. (2022) they are 6.12 and 0.6336.\n",
    "CAPEX = CAPEX * CEPCI_adjustment # CEPCI values taken from University of \n",
    "# Manchester (2024)"
   ]
  },
  {
   "cell_type": "markdown",
   "id": "21f60683-7cda-4bd5-adfa-21fc31bbabaf",
   "metadata": {},
   "source": [
    "Given this base CAPEX, the TOC is calculated by assuming a (scenario dependent) total overnight cost factor, roughly based on the Theis (2021) report values. The report then outlines how to calculate the final cost, TASC, using an escalation rate, assumed years of capital expenditures, weighted average cost of capital, economic lifetime and discount rates. These values are difficult to accurately specify, which is why they were made scenario dependent. Various combinations of these values were thus explored."
   ]
  },
  {
   "cell_type": "code",
   "execution_count": null,
   "id": "06ddb867-3129-45a4-83eb-42ec7cad2a10",
   "metadata": {},
   "outputs": [],
   "source": [
    "CAPEX = CAPEX * TOC_escalation\n",
    "CAPEX = CAPEX * (escalation + cfunding) # The escalation and cfunding factors \n",
    "# are calculated based on Theis (2021). This CAPEX is now the TASC."
   ]
  },
  {
   "cell_type": "markdown",
   "id": "fc77bb50-a794-4ee1-bf91-9e300519a0bb",
   "metadata": {},
   "source": [
    "Notably, the CAPEX was also increased depending on how much heat exchanger and heat pump capacity is used in the __recover_heat()__ function. We use the below equations to estimate these costs."
   ]
  },
  {
   "cell_type": "code",
   "execution_count": null,
   "id": "8c939df6-1310-4d82-aecb-8352368ddf55",
   "metadata": {},
   "outputs": [],
   "source": [
    "CAPEX_hex = cost_hex * A_hex ^ 0.9145 # Where cost_hex is scenario dependent, \n",
    "# but in Eliasson et al. (2022) it is 0.571.\n",
    "CAPEX_hp = cost_hp * Qhp # Where cost_hp is scenario dependent. Based on \n",
    "# Bergander and Hellander (2024)."
   ]
  },
  {
   "cell_type": "markdown",
   "id": "a63a0916-ccaf-4bb5-a89b-3a9461ed3776",
   "metadata": {},
   "source": [
    "Finally, CAPEX was used to estimate the fixed OPEX. And CAPEX was then annualized over the economic lifetime."
   ]
  },
  {
   "cell_type": "code",
   "execution_count": null,
   "id": "f21f0068-dbb1-41c2-8c2e-10e50fd161e1",
   "metadata": {},
   "outputs": [],
   "source": [
    "fixed_OPEX = fixed_share * CAPEX # Where the fixed_share is scenario dependent, \n",
    "# but in Beiron et al. (2022) it is 0.06.\n",
    "annualization = (i * (1 + i) ^ t) / ((1 + i) ^ t - 1) # Where i is discount \n",
    "# rate and t is economic lifetime\n",
    "aCAPEX = annualization * CAPEX     "
   ]
  },
  {
   "cell_type": "markdown",
   "id": "b2b95201-675a-4ccf-83b1-2a559faf60fd",
   "metadata": {},
   "source": [
    "The variable OPEX is calculated using the __OPEX_MEA()__ function. This represents a key methodological choice - we assume that the energy cost should be determined as the difference between net energy revenues (from both heat and electricity sales) before and after the CCS integration. These net revenues are calculated and compared on an annual basis. Other OPEX costs were mostly neglected, except for the cost of MEA solvent makeup."
   ]
  },
  {
   "cell_type": "code",
   "execution_count": null,
   "id": "0af9a59e-9528-4f56-96b4-33f46cc50f92",
   "metadata": {},
   "outputs": [],
   "source": [
    "energy_OPEX = revenues_nominal - revenues # Calculated by multiplying power by\n",
    "# power prices and heat by heat prices.\n",
    "other_OPEX = solvent_makeup_losses * cost_makeup # Solvent losses are taken \n",
    "# from the Aspen data. Their cost is scenario based."
   ]
  },
  {
   "cell_type": "markdown",
   "id": "29371e07-7641-433d-b511-c753219811a8",
   "metadata": {},
   "source": [
    "Now the energy balances and costs are calculated, so the Key Performance Indicators (KPIs) can be determined. The penalty_power and penalty_heat are calculated as the difference between power and heat generated before and after the CCS integration. The extra_biomass is calculated by multiplying the fuel intensity (calculated in the __estimate_nominal_cycle()__ function) with the increase in plant utilization (which was specified when the __CCS_CHP()__ model was instantiated). _The KPIs below are the main outputs of the model._"
   ]
  },
  {
   "cell_type": "code",
   "execution_count": null,
   "id": "e6eb4c0e-e119-4ce5-ad1b-bb7a09415321",
   "metadata": {},
   "outputs": [],
   "source": [
    "capture_cost = (aCAPEX + fixed_OPEX + energy_OPEX + other_OPEX) / captured_CO2 \n",
    "# [EUR/tCO2]\n",
    "penalty_services = (penalty_power + penalty_heat) / captured_CO2 # [kWh/tCO2]\n",
    "penalty_biomass  = extra_biomass / captured_CO2 # [kWh/tCO2]"
   ]
  },
  {
   "cell_type": "markdown",
   "id": "0254ec95-41ef-486a-a785-08c13bb158c1",
   "metadata": {},
   "source": [
    "## 3. The pulp mill models\n",
    "### Determining an initial energy balance and preparing Aspen data\n",
    "The CCS retrofit models for pulp mills follow a similar logic to those of CHP plants. Firstly, we specify some energy balance assumptions for all mills - mainly that the recovery boiler generates 18 GJ steam per air dried ton of pulp produced, and the various pulp mill processes demand 11 GJ steam per air dried ton of pulp produced (EU Joint Research Centre, 2015). We also assume the mills are operated 8000 hours per year. We decided to not model this as an uncertainty, as it would cause misalignment with the constant pulp production data used. Furthermore, we decided that the lowest pressure level of any steam stream would be 0.1 bar.\n",
    "\n",
    "After making these energy balnce assumptions, a __pulp_plant__ object is constructed based on any of the pulp mills in the data csv file. The nominal energy balance of this mill is then estimated using the __estimate_nominal_cycle()__ function. Here, the main goal is to determine how much excess steam could be available from the recovery and bark boilers, after steam has been used to cover mill process demands. This is done by calculating: the steam generated from the recovery boiler, i.e. 18 GJ times the production capacity; the steam generated from the bark boiler, i.e. a percent share of the steam generated from the recovery boiler (e.g. ~15 % at the Mönsterås pulp mill); and the steam demand for the kraft process, i.e. 11 GJ times the production capacity. These are then summarized according to Equation (1) in the main article, which is re-iterated below.\n",
    "\n",
    "$$\n",
    "Q_{\\text{available steam}} \\, [\\text{MWh p.a.}] = Q_{\\text{recovery boiler}} + Q_{\\text{bark boiler}} - Q_{\\text{process demands}}\n",
    "$$\n",
    "\n",
    "The function then estimates the massflow of available steam that could be expanded from live steam states down to low pressure (~4 bar) or condensing pressure (0.1 bar). The nominal power production can therefore also be calculated, as we assume this steam is expanded through turbines before being used to cover process demands (at ~4 bar). At this point, the nominal steam states and power generation of the pulp mill have been estimated.\n",
    "<div style=\"page-break-before: always;\"></div>"
   ]
  },
  {
   "cell_type": "code",
   "execution_count": null,
   "id": "85cc7b64-0cf7-4a5e-945a-4994fca2130b",
   "metadata": {},
   "outputs": [],
   "source": [
    "energybalance_assumptions = {\n",
    "    \"recovery_intensity\": 18,       #[GJ/t pulp]\n",
    "    \"heat_intensity\": 11,           #[GJ/t pulp]\n",
    "    \"condensing_pressure\": 0.1,     #[bar]\n",
    "    \"time\": 8000                    #[h p.a.]\n",
    "}\n",
    "\n",
    "pulp_plant = PulpPlant(\n",
    "    name=plant_data['Name'],\n",
    "    pulp_capacity=plant_data['Pulp capacity'],\n",
    "    bark_share=plant_data['Bark capacity'],\n",
    "    rp=plant_data['RP'],\n",
    "    rt=plant_data['RT'],\n",
    "    bp=plant_data['BP'],\n",
    "    bt=plant_data['BT'],\n",
    "    lp=plant_data['LP'],\n",
    "    energybalance_assumptions=energybalance_assumptions\n",
    ")\n",
    "\n",
    "pulp_plant.estimate_nominal_cycle()"
   ]
  },
  {
   "cell_type": "markdown",
   "id": "434bd6fe-37d5-4ace-bd60-351813f0f95e",
   "metadata": {},
   "source": [
    "The process for estimating how an amine retrofit would impact the energy balance of the pulp mill is analogous to that of CHP plants. We adapted the Aspen Plus model to various flue gas volumes and capture rates. Notably, only the flue gas from the recovery boiler was considered for capture. It's (wet) flue gas composition was taken from Onarheim et al. (2017). Again, running the Aspen model repeatedly resulted in a data set of Aspen outputs, e.g. reboiler duty, pump and compressor work etc. We used this data to construct a set of interpolators that, given a new flue gas flow and capture rate, could be used to quickly estimate various parameters across thousands of scenarios.\n",
    "\n",
    "| Wet flue gas composition (pulp recovery boiler) |   |   |\n",
    "|--------------------------|---|---|\n",
    "| CO2                      | vol.% | 13.0 |\n",
    "| O2                       | vol.% | 2.3  |\n",
    "| H2O                      | vol.% | 17  |\n",
    "| N2 and inert gases        | vol.% | 68 |  "
   ]
  },
  {
   "cell_type": "markdown",
   "id": "96d64e3e-848d-4a1d-8aa7-142bb33af75d",
   "metadata": {},
   "source": [
    "### The CCS retrofit model\n",
    "The nominal energy balance of the pulp mill is now determined and interpolators of the Aspen outputs are prepared. The pulp mill object and Aspen interpolators can then be passed to the main model __CCS_Pulp()__.  \n",
    "\n",
    "Similar to CHP plants, the uncertainties and levers are specified in the beginning of the model. These correspond to Table 3 in the main article. An example scenario could look something like this:\n",
    "<div style=\"page-break-before: always;\"></div>"
   ]
  },
  {
   "cell_type": "code",
   "execution_count": null,
   "id": "4c5c28bd-5a32-4f58-939b-f56dcc960f57",
   "metadata": {},
   "outputs": [],
   "source": [
    "def CCS_Pulp(\n",
    "    factor_recovery = 0.4106,       \n",
    "    factor_bark = 0.322285714,\n",
    "    fluegas_intensity = 10188.75,  \n",
    "    COP = 3,\n",
    "    k = -29.998,\n",
    "    m = 1.248,\n",
    "\n",
    "    alpha=6.12,\n",
    "    beta=0.6336,\n",
    "    CEPCI=600/550,\n",
    "    fixed=0.06,\n",
    "    ownercost=0.2,\n",
    "    WACC=0.05,\n",
    "    yexpenses=3,\n",
    "    rescalation=0.03,\n",
    "    i=0.075,\n",
    "    t=25,\n",
    "    celc=40,\n",
    "    cbio=30,\n",
    "    cMEA=2,\n",
    "    cHP=0.86,                     \n",
    "\n",
    "    SupplyStrategy = \"SteamLP\",\n",
    "    rate = 0.90,\n",
    "    BarkIncrease = \"30\",  \n",
    "\n",
    "    pulp_interpolators=aspen_interpolators,\n",
    "    PulpPlant=pulp_plant\n",
    "):"
   ]
  },
  {
   "cell_type": "markdown",
   "id": "e6efec8c-f966-4e72-88c8-0bf4fedc7ddc",
   "metadata": {},
   "source": [
    "Again, the model begins by calculating the amount of flue gases, feedstock use and CO2 generated using the __burn_fuel()__ function. This is where any extra bark boiler use is accounted for. Flue gas factors are estimated based on the modelled data used by Onarheim et al. (2017), notably the production capacity of 800 000 air dried tons per year and the flue gas data of their Table 2. These factors are then scaled to the production capacities of the mills considered in this study. For example, a mill producing 400 000 tons of pulp per year would produce roughly half as much flue gases as the Onarheim model mill. Again, the flue gases are considered ideal, i.e. 22.4 Nm3/kmol gas. Just like for CHP, the flue gas flow and capture rate is used in the __size_MEA()__ function to interpolate between the Aspen data points, and thus to estimate various parameters such as reboiler duty, compressor demands, solvent makeup etc."
   ]
  },
  {
   "cell_type": "code",
   "execution_count": null,
   "id": "defe41ea-4c87-48c1-95dd-9e8605e84684",
   "metadata": {},
   "outputs": [],
   "source": [
    "pulp_plant.burn_fuel()\n",
    "pulp_plant.size_MEA(rate, pulp_interpolators)"
   ]
  },
  {
   "cell_type": "markdown",
   "id": "e08626a7-cc03-4749-950d-19a66c8e97e0",
   "metadata": {},
   "source": [
    "A key feature of the pulp CCS model is that _only one out of three energy supply strategies is employed in each scenario_. Their model implementation will now be described briefly.\n",
    "\n",
    "Firstly, the mill owner could utilize high pressure, live steam to supply the capture plant reboiler with heat. This strategy, \"SteamHP\", has a dedicated function called __feed_then_condense()__. The function subtracts the reboiler duty from the available steam of the mill. The remaining steam is then expanded as normal to lower pressure levels. The various steam mass flows are then re-calculated and the relative loss in power generation is estimated.\n",
    "\n",
    "Alternatively, the mill owner could utilize low pressure steam (~4 bar) to supply the capture plant reboiler with heat. This strategy, \"SteamLP\", has a function called __expand_then_feed()__. The function first expands (through turbines, presumably) the live steam of the recovery and bark boilers to their respective low pressure levels. It then forms a merit order for supplying the reboiler heat demand. It first tries to supply the whole demand using low pressure recovery boiler steam. It then supplies any remaining heat demand with bark boiler steam. Should this be insufficient (which is unlikely), any remaining reboiler demand is assumed to be met by direct electric heating. Again, the various steam mass flows are then re-calculated and the relative loss in power generation is estimated.\n",
    "\n",
    "Finally, the mill owner could utilize the _theoretical option_ of heat pumps to cover the reboiler heat demand. This strategy, \"HeatPumps\", has it's dedicated function called __recover_and_supplement()__ and is inspired by the setup introduced by Jenssen et al. (2024). The idea is to lift the temperature of available excess heat of the mill to an appropriate reboiler temperature, i.e. above 120 C. Heat above 60 C is considered useful for this purpose, while recognizing that the temperature lift is large. Available excess heat above 60 C has been estimated by Cruz et al. (2024) as:\n",
    "$$\n",
    "Q_{\\text{excess} \\geq 60^\\circ C} \\, [\\text{GWh p.a.}] = k + m \\times \\text{market pulp} \\, [\\text{air dried tons p.a.}]\n",
    "$$\n",
    "Where k, m and the heat pump COP efficiency are scenario dependent. This excess heat is lifted to meet the reboiler heat demand at the expense of lost electricity (determined by the COP). In many scenarios this is insufficient to cover the reboiler demand. Again, a merit order is constructed where low pressure recovery boiler steam is prioritized to meet the remaining demand. If insufficient, then low pressure bark boiler steam is also utilized to meet the remaining demand. After the reboiler demand is met, the various steam flows are re-calculated and the relative loss of power generation  (including for heat pump work) is estimated."
   ]
  },
  {
   "cell_type": "code",
   "execution_count": null,
   "id": "ad74052e-dfce-4cfe-b89e-f8fc6174eb82",
   "metadata": {},
   "outputs": [],
   "source": [
    "if SupplyStrategy == \"SteamHP\":\n",
    "    PulpPlant.feed_then_condense()\n",
    "        \n",
    "elif SupplyStrategy == \"SteamLP\":\n",
    "    PulpPlant.expand_then_feed()\n",
    "\n",
    "elif SupplyStrategy == \"HeatPumps\":\n",
    "    PulpPlant.recover_and_supplement()"
   ]
  },
  {
   "cell_type": "markdown",
   "id": "6bfb610b-fb86-442a-b7d7-4c548d375184",
   "metadata": {},
   "source": [
    "Now, the new energy balance of the mill has been determined and CAPEX and OPEX can be calculated. The __CAPEX_MEA()__ calculations, including for fixed OPEX, are the same as the calculations used for CHP plants so we will not describe them again. The only difference is that the heat pump capacity for CHP plants is for upgrading capture plant excess heat, while heat pump capacity for pulp mills is for upgrading mill process excess heat. The __OPEX_MEA()__ function simply calculates the cost of foregone revenues from reduced power generation, the cost of any additional biomass feedstock and the cost of solvent makeup."
   ]
  },
  {
   "cell_type": "code",
   "execution_count": null,
   "id": "4763f823-89c6-4848-a67d-b0c968d971ec",
   "metadata": {},
   "outputs": [],
   "source": [
    "energy_OPEX = lost_power * price_electricity + extra_biomass * cost_biomass \n",
    "# These factors are all scenario dependent.\n",
    "other_OPEX = solvent_makeup_losses * cost_makeup # Solvent losses are taken \n",
    "# from the Aspen data. Their cost is scenario dependent."
   ]
  },
  {
   "cell_type": "markdown",
   "id": "451ab92d-7476-4dd6-bbb5-b1514f89e258",
   "metadata": {},
   "source": [
    "Finally, the energy balances and costs are calculated, so the Key Performance Indicators (KPIs) can be determined. These KPIs are the main outputs of the model."
   ]
  },
  {
   "cell_type": "code",
   "execution_count": null,
   "id": "b9232063-63da-4251-8c29-fea3f87efb80",
   "metadata": {},
   "outputs": [],
   "source": [
    "capture_cost = (aCAPEX + fixed_OPEX + energy_OPEX + other_OPEX) / captured_CO2 \n",
    "# [EUR/tCO2]\n",
    "penalty_services = lost_power / captured_CO2 # [kWh/tCO2]\n",
    "penalty_biomass  = extra_biomass / captured_CO2 # [kWh/tCO2]"
   ]
  }
 ],
 "metadata": {
  "kernelspec": {
   "display_name": "Python 3 (ipykernel)",
   "language": "python",
   "name": "python3"
  },
  "language_info": {
   "codemirror_mode": {
    "name": "ipython",
    "version": 3
   },
   "file_extension": ".py",
   "mimetype": "text/x-python",
   "name": "python",
   "nbconvert_exporter": "python",
   "pygments_lexer": "ipython3",
   "version": "3.11.5"
  }
 },
 "nbformat": 4,
 "nbformat_minor": 5
}
